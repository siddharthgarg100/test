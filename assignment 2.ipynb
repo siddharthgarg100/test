{
 "cells": [
  {
   "cell_type": "markdown",
   "metadata": {},
   "source": [
    "Q7. Write a program to return True if the list consist only integer values only and if not return False. \n"
   ]
  },
  {
   "cell_type": "code",
   "execution_count": 13,
   "metadata": {},
   "outputs": [
    {
     "name": "stdout",
     "output_type": "stream",
     "text": [
      "FALSE\n"
     ]
    }
   ],
   "source": [
    "a= [3,4.4]\n",
    "i=0\n",
    "for each in a:\n",
    "    each=float(each)\n",
    "    if (each.is_integer() ==False):\n",
    "        print (\"FALSE\")\n",
    "        break\n",
    "    else:\n",
    "        \n",
    "        i=i+1\n",
    "        if (i==len(a)):\n",
    "            print (\"True\")\n",
    "            \n",
    "        \n",
    "        continue"
   ]
  },
  {
   "cell_type": "markdown",
   "metadata": {},
   "source": [
    "Q6. Write a program to calculate the length of each word in the sentence. \n",
    "    Example: x=\"Hello world I am learning python\" Now length of hello is 5. \n"
   ]
  },
  {
   "cell_type": "code",
   "execution_count": 18,
   "metadata": {},
   "outputs": [
    {
     "name": "stdout",
     "output_type": "stream",
     "text": [
      "my   2\n",
      "name   4\n",
      "is   2\n",
      "siddharth   9\n"
     ]
    }
   ],
   "source": [
    "a=\"my name is siddharth\"\n",
    "\n",
    "lst=a.split(' ')\n",
    "for each in lst:\n",
    "    print (each,\" \",len(each))"
   ]
  },
  {
   "cell_type": "markdown",
   "metadata": {},
   "source": [
    "Q4-Write a program to print the list of numbers which has a cube of odd numbers in the range of 1,50. "
   ]
  },
  {
   "cell_type": "code",
   "execution_count": 19,
   "metadata": {},
   "outputs": [
    {
     "name": "stdout",
     "output_type": "stream",
     "text": [
      "1\n",
      "3\n"
     ]
    }
   ],
   "source": [
    "\n",
    "for number in range (1,50):\n",
    "    if (number%2==0):\n",
    "        continue\n",
    "    else:\n",
    "        if (number*number*number <50):\n",
    "            print (number)"
   ]
  },
  {
   "cell_type": "code",
   "execution_count": null,
   "metadata": {},
   "outputs": [],
   "source": [
    "a=\"my@#name##$%is@#$siddharth\"\n",
    "\n",
    "b=dict()\n",
    "\n",
    "for each in a:\n",
    "    if (each.isalpha() or each.isnumber()):\n",
    "        continue\n",
    "    else:\n",
    "        for each2 in b.keys():\n",
    "            if each2 == each:\n",
    "                \n"
   ]
  },
  {
   "cell_type": "markdown",
   "metadata": {},
   "source": [
    "Q2- Write a program to take out the pair of numbers whose sum is equal to an even number. You should return the list from the range of 1 to 21. \n",
    "Example: x=[1,2,3,4,5] Pair should be (2,4) this will return the sum as 6 which is even. 3-Write a program to calculate the frequency of any special character if that exist in any string. \n"
   ]
  },
  {
   "cell_type": "code",
   "execution_count": 21,
   "metadata": {},
   "outputs": [
    {
     "name": "stdout",
     "output_type": "stream",
     "text": [
      "1   3\n",
      "1   5\n",
      "1   7\n",
      "1   9\n",
      "1   11\n",
      "1   13\n",
      "1   15\n",
      "1   17\n",
      "1   19\n",
      "2   4\n",
      "2   6\n",
      "2   8\n",
      "2   10\n",
      "2   12\n",
      "2   14\n",
      "2   16\n",
      "2   18\n",
      "2   20\n",
      "3   5\n",
      "3   7\n",
      "3   9\n",
      "3   11\n",
      "3   13\n",
      "3   15\n",
      "3   17\n",
      "3   19\n",
      "4   6\n",
      "4   8\n",
      "4   10\n",
      "4   12\n",
      "4   14\n",
      "4   16\n",
      "4   18\n",
      "4   20\n",
      "5   7\n",
      "5   9\n",
      "5   11\n",
      "5   13\n",
      "5   15\n",
      "5   17\n",
      "5   19\n",
      "6   8\n",
      "6   10\n",
      "6   12\n",
      "6   14\n",
      "6   16\n",
      "6   18\n",
      "6   20\n",
      "7   9\n",
      "7   11\n",
      "7   13\n",
      "7   15\n",
      "7   17\n",
      "7   19\n",
      "8   10\n",
      "8   12\n",
      "8   14\n",
      "8   16\n",
      "8   18\n",
      "8   20\n",
      "9   11\n",
      "9   13\n",
      "9   15\n",
      "9   17\n",
      "9   19\n",
      "10   12\n",
      "10   14\n",
      "10   16\n",
      "10   18\n",
      "10   20\n",
      "11   13\n",
      "11   15\n",
      "11   17\n",
      "11   19\n",
      "12   14\n",
      "12   16\n",
      "12   18\n",
      "12   20\n",
      "13   15\n",
      "13   17\n",
      "13   19\n",
      "14   16\n",
      "14   18\n",
      "14   20\n",
      "15   17\n",
      "15   19\n",
      "16   18\n",
      "16   20\n",
      "17   19\n",
      "18   20\n"
     ]
    }
   ],
   "source": [
    "for number in range (1,21):\n",
    "    \n",
    "    for number2 in range (number,21):\n",
    "        if ((number%2!=0 and number2%2!=0)or (number%2==0 and number2%2==0)):\n",
    "            if (number==number2):\n",
    "                continue\n",
    "            print (number,\" \",number2)"
   ]
  },
  {
   "cell_type": "code",
   "execution_count": null,
   "metadata": {},
   "outputs": [],
   "source": []
  }
 ],
 "metadata": {
  "kernelspec": {
   "display_name": "Python 3",
   "language": "python",
   "name": "python3"
  },
  "language_info": {
   "codemirror_mode": {
    "name": "ipython",
    "version": 3
   },
   "file_extension": ".py",
   "mimetype": "text/x-python",
   "name": "python",
   "nbconvert_exporter": "python",
   "pygments_lexer": "ipython3",
   "version": "3.7.3"
  }
 },
 "nbformat": 4,
 "nbformat_minor": 2
}
